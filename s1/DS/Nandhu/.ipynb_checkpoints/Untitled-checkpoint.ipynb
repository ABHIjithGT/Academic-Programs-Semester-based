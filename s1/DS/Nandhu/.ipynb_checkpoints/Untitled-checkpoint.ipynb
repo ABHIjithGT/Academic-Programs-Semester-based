{
 "cells": [
  {
   "cell_type": "code",
   "execution_count": 11,
   "id": "c364f9f3-371b-4106-b33d-cc2a298b2411",
   "metadata": {},
   "outputs": [
    {
     "name": "stdin",
     "output_type": "stream",
     "text": [
      "enter a string hop,helmet,blig\n"
     ]
    },
    {
     "name": "stdout",
     "output_type": "stream",
     "text": [
      "hop,$elmet,blig\n"
     ]
    }
   ],
   "source": [
    "a=input(\"enter a string\")\n",
    "print(a[0]+a[1:].replace(a[0].lower(),'$'))"
   ]
  },
  {
   "cell_type": "code",
   "execution_count": 13,
   "id": "5abe4bd5-0a2d-417e-a358-0414d6b10d0b",
   "metadata": {},
   "outputs": [
    {
     "name": "stdout",
     "output_type": "stream",
     "text": [
      "gop,helmet,blih\n"
     ]
    }
   ],
   "source": [
    "print( a[-1]+a[1:-1]+a[0])"
   ]
  },
  {
   "cell_type": "code",
   "execution_count": 53,
   "id": "a4ad8793-c36c-47eb-9954-450fc20898e5",
   "metadata": {},
   "outputs": [
    {
     "name": "stdin",
     "output_type": "stream",
     "text": [
      "Enter a string lsoj\n"
     ]
    },
    {
     "name": "stdout",
     "output_type": "stream",
     "text": [
      "lsoj\n"
     ]
    }
   ],
   "source": [
    "def sqr(s):\n",
    "    if( (s[0]!='l') or (s[1]!='s') ):\n",
    "     print('ls'+s)\n",
    "    else:\n",
    "     print(s)\n",
    "s=input(\"Enter a string\")\n",
    "sqr(s)"
   ]
  },
  {
   "cell_type": "code",
   "execution_count": null,
   "id": "2cb7e213-9ab3-49a7-a197-d67554a86e9b",
   "metadata": {},
   "outputs": [],
   "source": []
  }
 ],
 "metadata": {
  "kernelspec": {
   "display_name": "Python 3 (ipykernel)",
   "language": "python",
   "name": "python3"
  },
  "language_info": {
   "codemirror_mode": {
    "name": "ipython",
    "version": 3
   },
   "file_extension": ".py",
   "mimetype": "text/x-python",
   "name": "python",
   "nbconvert_exporter": "python",
   "pygments_lexer": "ipython3",
   "version": "3.10.12"
  }
 },
 "nbformat": 4,
 "nbformat_minor": 5
}
