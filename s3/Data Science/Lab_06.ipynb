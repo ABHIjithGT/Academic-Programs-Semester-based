{
  "nbformat": 4,
  "nbformat_minor": 0,
  "metadata": {
    "colab": {
      "provenance": [],
      "authorship_tag": "ABX9TyN6GBy8bRZzyiytUmaWueC8",
      "include_colab_link": true
    },
    "kernelspec": {
      "name": "python3",
      "display_name": "Python 3"
    },
    "language_info": {
      "name": "python"
    }
  },
  "cells": [
    {
      "cell_type": "markdown",
      "metadata": {
        "id": "view-in-github",
        "colab_type": "text"
      },
      "source": [
        "<a href=\"https://colab.research.google.com/github/ABHIjithGT/Academic-Programs-Semester-based/blob/main/s3/Data%20Science/Lab_06.ipynb\" target=\"_parent\"><img src=\"https://colab.research.google.com/assets/colab-badge.svg\" alt=\"Open In Colab\"/></a>"
      ]
    },
    {
      "cell_type": "markdown",
      "source": [
        "# **1.Manual KNN Implementation**"
      ],
      "metadata": {
        "id": "lKwefcTBznTL"
      }
    },
    {
      "cell_type": "code",
      "execution_count": null,
      "metadata": {
        "colab": {
          "base_uri": "https://localhost:8080/"
        },
        "id": "WwEoZsgryGMz",
        "outputId": "028185ea-788f-48a1-a245-1d3707d7c765"
      },
      "outputs": [
        {
          "output_type": "stream",
          "name": "stdout",
          "text": [
            "Predicted class (manual KNN): setosa\n"
          ]
        }
      ],
      "source": [
        "import numpy as np\n",
        "from sklearn.datasets import load_iris\n",
        "from collections import Counter\n",
        "\n",
        "# Load Iris data\n",
        "iris = load_iris()\n",
        "X = iris.data\n",
        "y = iris.target\n",
        "\n",
        "def euclidean_distance(a, b):\n",
        "  return np.sqrt(np.sum((a - b) ** 2))\n",
        "\n",
        "def knn_predict(X_train, y_train, x_test, k=3):\n",
        "    distances = []\n",
        "    for i, x_train in enumerate(X_train):\n",
        "        dist = euclidean_distance(x_train, x_test)\n",
        "        distances.append((dist, y_train[i]))\n",
        "\n",
        "    # Sort by distance and get k nearest\n",
        "    distances.sort(key=lambda x: x[0])\n",
        "    neighbors = distances[:k]\n",
        "\n",
        "    # Extract the labels of k nearest neighbors\n",
        "    neighbor_labels = [label for _, label in neighbors]\n",
        "\n",
        "    # Majority vote\n",
        "    most_common = Counter(neighbor_labels).most_common(1)\n",
        "    return most_common[0][0]\n",
        "\n",
        "# Example new instance (features): [sepal length, sepal width, petal length, petal width]\n",
        "new_instance = np.array([5.1, 3.5, 1.4, 0.2])\n",
        "\n",
        "predicted_class = knn_predict(X, y, new_instance, k=3)\n",
        "print(\"Predicted class (manual KNN):\", iris.target_names[predicted_class])\n"
      ]
    }
  ]
}