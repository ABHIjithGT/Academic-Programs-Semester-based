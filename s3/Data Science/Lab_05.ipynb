{
  "nbformat": 4,
  "nbformat_minor": 0,
  "metadata": {
    "colab": {
      "provenance": [],
      "authorship_tag": "ABX9TyN/Wu1mOEKVsIdSUgg8ldZr",
      "include_colab_link": true
    },
    "kernelspec": {
      "name": "python3",
      "display_name": "Python 3"
    },
    "language_info": {
      "name": "python"
    }
  },
  "cells": [
    {
      "cell_type": "markdown",
      "metadata": {
        "id": "view-in-github",
        "colab_type": "text"
      },
      "source": [
        "<a href=\"https://colab.research.google.com/github/ABHIjithGT/Academic-Programs-Semester-based/blob/main/s3/Data%20Science/Lab_05.ipynb\" target=\"_parent\"><img src=\"https://colab.research.google.com/assets/colab-badge.svg\" alt=\"Open In Colab\"/></a>"
      ]
    },
    {
      "cell_type": "markdown",
      "source": [
        "# **1. Using scikit-learn's KNeighborsClassifier**"
      ],
      "metadata": {
        "id": "4UeMnMdCx6j8"
      }
    },
    {
      "cell_type": "code",
      "source": [
        "from sklearn.neighbors import KNeighborsClassifier as KNN\n",
        "\n",
        "# Load Iris data\n",
        "iris = load_iris()\n",
        "X = iris.data\n",
        "y = iris.target\n",
        "\n",
        "# Create KNN classifier instance\n",
        "knn = KNN(n_neighbors=3)\n",
        "\n",
        "# Train the model\n",
        "knn.fit(X, y)\n",
        "\n",
        "# Predict for new instance\n",
        "new_instance = np.array([[5.1, 3.5, 1.4, 0.2]])\n",
        "predicted_class = knn.predict(new_instance)\n",
        "\n",
        "print(\"Predicted class (sklearn KNN):\", iris.target_names[predicted_class][0])"
      ],
      "metadata": {
        "colab": {
          "base_uri": "https://localhost:8080/"
        },
        "id": "KWZkjHmNxafr",
        "outputId": "5b40cbbc-deba-48bf-bd29-bf2aa2baaf57"
      },
      "execution_count": null,
      "outputs": [
        {
          "output_type": "stream",
          "name": "stdout",
          "text": [
            "Predicted class (sklearn KNN): setosa\n"
          ]
        }
      ]
    }
  ]
}